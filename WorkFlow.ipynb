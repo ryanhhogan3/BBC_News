{
 "cells": [
  {
   "cell_type": "code",
   "execution_count": 20,
   "id": "available-affairs",
   "metadata": {},
   "outputs": [
    {
     "name": "stdout",
     "output_type": "stream",
     "text": [
      "['.ipynb_checkpoints', 'BBC News Sample Solution.csv', 'BBC News Test.csv', 'BBC News Train.csv']\n"
     ]
    }
   ],
   "source": [
    "# Python 3 Enviornment\n",
    "# Importing our necessary libraries\n",
    "\n",
    "import numpy as np\n",
    "import pandas as pd\n",
    "import matplotlib.pyplot as plt\n",
    "%matplotlib inline\n",
    "\n",
    "import sklearn\n",
    "import os\n",
    "\n",
    "print(os.listdir(r\"Data\"))"
   ]
  },
  {
   "cell_type": "code",
   "execution_count": 21,
   "id": "spare-matrix",
   "metadata": {},
   "outputs": [
    {
     "data": {
      "text/html": [
       "<div>\n",
       "<style scoped>\n",
       "    .dataframe tbody tr th:only-of-type {\n",
       "        vertical-align: middle;\n",
       "    }\n",
       "\n",
       "    .dataframe tbody tr th {\n",
       "        vertical-align: top;\n",
       "    }\n",
       "\n",
       "    .dataframe thead th {\n",
       "        text-align: right;\n",
       "    }\n",
       "</style>\n",
       "<table border=\"1\" class=\"dataframe\">\n",
       "  <thead>\n",
       "    <tr style=\"text-align: right;\">\n",
       "      <th></th>\n",
       "      <th>Category</th>\n",
       "      <th>category_id</th>\n",
       "    </tr>\n",
       "  </thead>\n",
       "  <tbody>\n",
       "    <tr>\n",
       "      <th>0</th>\n",
       "      <td>business</td>\n",
       "      <td>0</td>\n",
       "    </tr>\n",
       "    <tr>\n",
       "      <th>1</th>\n",
       "      <td>tech</td>\n",
       "      <td>1</td>\n",
       "    </tr>\n",
       "    <tr>\n",
       "      <th>2</th>\n",
       "      <td>politics</td>\n",
       "      <td>2</td>\n",
       "    </tr>\n",
       "    <tr>\n",
       "      <th>3</th>\n",
       "      <td>sport</td>\n",
       "      <td>3</td>\n",
       "    </tr>\n",
       "    <tr>\n",
       "      <th>4</th>\n",
       "      <td>entertainment</td>\n",
       "      <td>4</td>\n",
       "    </tr>\n",
       "  </tbody>\n",
       "</table>\n",
       "</div>"
      ],
      "text/plain": [
       "        Category  category_id\n",
       "0       business            0\n",
       "1           tech            1\n",
       "2       politics            2\n",
       "3          sport            3\n",
       "4  entertainment            4"
      ]
     },
     "execution_count": 21,
     "metadata": {},
     "output_type": "execute_result"
    }
   ],
   "source": [
    "# Looking at our data\n",
    "Trainpath = os.path.join(\"Data/BBC News Train.csv\")\n",
    "\n",
    "# Load our data\n",
    "Traindata = pd.read_csv(Trainpath)\n",
    "\n",
    "# Read our data to review columns, and datapoints\n",
    "Traindata.head()\n",
    "\n",
    "# We need to encode our data then save it to a new column\n",
    "Traindata['category_id'] = Traindata['Category'].factorize()[0]\n",
    "\n",
    "# Review our dataframe\n",
    "Traindata.head(10)\n",
    "\n",
    "# Lets look at our categories and corresponding ID numbers\n",
    "category_id = Traindata[['Category', 'category_id']].drop_duplicates().sort_values('category_id')\n",
    "\n",
    "# drop index and review\n",
    "category_id.reset_index(drop=True, inplace=True)\n",
    "\n",
    "# index matches our cateogory_id\n",
    "category_id"
   ]
  },
  {
   "cell_type": "code",
   "execution_count": 22,
   "id": "offshore-superintendent",
   "metadata": {},
   "outputs": [],
   "source": [
    "# Create a dictionary that can convert category names into category_id\n",
    "category_to_id = dict(category_id.values)\n",
    "\n",
    "# inverse the dict\n",
    "id_to_category = {v: i for i, v in category_to_id.items()}"
   ]
  },
  {
   "cell_type": "code",
   "execution_count": 23,
   "id": "alike-living",
   "metadata": {},
   "outputs": [
    {
     "data": {
      "text/plain": [
       "<AxesSubplot:xlabel='Category'>"
      ]
     },
     "execution_count": 23,
     "metadata": {},
     "output_type": "execute_result"
    },
    {
     "data": {
      "image/png": "[encoded data removed]",
      "text/plain": [
       "<Figure size 432x288 with 1 Axes>"
      ]
     },
     "metadata": {
      "needs_background": "light"
     },
     "output_type": "display_data"
    }
   ],
   "source": [
    "# Sample our data\n",
    "Traindata.sample(10)\n",
    "\n",
    "# Count and view our data\n",
    "Traindata.groupby('Category').category_id.count()\n",
    "\n",
    "# Bar plot for visualization \n",
    "Traindata.groupby('Category').category_id.count().plot.bar(ylim=0,\n",
    "                                                           color=['red','blue','lightblue',\n",
    "                                                                 'purple','orange'])"
   ]
  },
  {
   "cell_type": "code",
   "execution_count": 25,
   "id": "dated-attendance",
   "metadata": {},
   "outputs": [
    {
     "data": {
      "text/plain": [
       "0       0\n",
       "1       0\n",
       "2       0\n",
       "3       1\n",
       "4       0\n",
       "       ..\n",
       "1485    4\n",
       "1486    4\n",
       "1487    0\n",
       "1488    1\n",
       "1489    1\n",
       "Name: category_id, Length: 1490, dtype: int64"
      ]
     },
     "execution_count": 25,
     "metadata": {},
     "output_type": "execute_result"
    }
   ],
   "source": [
    "# Bring in our Tfid Vectorizer\n",
    "    # Sublinear_tf set to True to give returns as freq. of word decreases\n",
    "    # Min_df is minimum number of documents a word must be present in to be kept\n",
    "    # norm is to ensure all our feature vectors have a euclidian norm of 1\n",
    "    # encoding is used by our input text\n",
    "    # ngram_range to indicate that we want to consider single words ('money', 'business') amd pairs of words ('stock market', 'comedy movies')\n",
    "    # stop_words set to english for removing all common pronouns ('a', 'he', 'it')\n",
    "from sklearn.feature_extraction.text import TfidfVectorizer\n",
    "\n",
    "tfidf = TfidfVectorizer(sublinear_tf=True, min_df=10, norm='l2', encoding='latin-1', \n",
    "                        ngram_range=(1,2), stop_words='english')\n",
    "\n",
    "features = tfidf.fit_transform(Traindata.Text).toarray()\n",
    "# turns our texts into features \n",
    "\n",
    "# Assign our labels\n",
    "labels = Traindata.category_id\n",
    "labels"
   ]
  },
  {
   "cell_type": "code",
   "execution_count": 26,
   "id": "metric-mayor",
   "metadata": {},
   "outputs": [
    {
     "name": "stdout",
     "output_type": "stream",
     "text": [
      "(1490, 4782)\n"
     ]
    },
    {
     "data": {
      "text/plain": [
       "[('business', 0),\n",
       " ('entertainment', 4),\n",
       " ('politics', 2),\n",
       " ('sport', 3),\n",
       " ('tech', 1)]"
      ]
     },
     "execution_count": 26,
     "metadata": {},
     "output_type": "execute_result"
    }
   ],
   "source": [
    "# Check our feauture shapes. How many features are there?\n",
    "print(features.shape)\n",
    "\n",
    "sorted(category_to_id.items())"
   ]
  },
  {
   "cell_type": "code",
   "execution_count": 27,
   "id": "aware-michael",
   "metadata": {},
   "outputs": [
    {
     "name": "stdout",
     "output_type": "stream",
     "text": [
      "# 'business':\n",
      " . Most Correlated unigrams:\n",
      "    .economy\n",
      "    .oil\n",
      "    .growth\n",
      "    .bank\n",
      "    .shares\n",
      " . Most Correlated biigrams:\n",
      "    .chief executive\n",
      "    .oil prices\n",
      "    .stock market\n",
      "    .economic growth\n",
      "    .analysts said\n",
      "# 'entertainment':\n",
      " . Most Correlated unigrams:\n",
      "    .awards\n",
      "    .album\n",
      "    .singer\n",
      "    .actor\n",
      "    .film\n",
      " . Most Correlated biigrams:\n",
      "    .film festival\n",
      "    .won best\n",
      "    .best film\n",
      "    .los angeles\n",
      "    .box office\n",
      "# 'politics':\n",
      " . Most Correlated unigrams:\n",
      "    .tories\n",
      "    .party\n",
      "    .blair\n",
      "    .election\n",
      "    .labour\n",
      " . Most Correlated biigrams:\n",
      "    .mr brown\n",
      "    .general election\n",
      "    .prime minister\n",
      "    .tony blair\n",
      "    .mr blair\n",
      "# 'sport':\n",
      " . Most Correlated unigrams:\n",
      "    .season\n",
      "    .injury\n",
      "    .coach\n",
      "    .match\n",
      "    .cup\n",
      " . Most Correlated biigrams:\n",
      "    .year old\n",
      "    .world cup\n",
      "    .grand slam\n",
      "    .champions league\n",
      "    .australian open\n",
      "# 'tech':\n",
      " . Most Correlated unigrams:\n",
      "    .microsoft\n",
      "    .computer\n",
      "    .technology\n",
      "    .software\n",
      "    .users\n",
      " . Most Correlated biigrams:\n",
      "    .high definition\n",
      "    .news website\n",
      "    .anti virus\n",
      "    .mobile phones\n",
      "    .mobile phone\n"
     ]
    }
   ],
   "source": [
    "from sklearn.feature_selection import chi2\n",
    "\n",
    "N = 5 # Looking at the top five words foe each category\n",
    "\n",
    "# For each category find words that are highly correlated with it\n",
    "# Gets the category and id from sorted list\n",
    "for Category, category_id in sorted(category_to_id.items()):\n",
    "    # Do chi2 analysis of all items in this category\n",
    "    features_chi2 = chi2(features, labels == category_id)\n",
    "    # Sorts the indicies of features_chi2\n",
    "    indicies = np.argsort(features_chi2[0])\n",
    "    # Converts indicies to feature names (increasing chi2 order)\n",
    "    feature_names = np.array(tfidf.get_feature_names())[indicies]\n",
    "    # List of single word features (in increasing order of chi2 stat values)\n",
    "    unigrams = [v for v in feature_names if len(v.split(' ')) == 1]\n",
    "    # List for two-words (in increasing order of chi2 stat values)\n",
    "    bigrams = [v for v in feature_names if len(v.split(' ')) == 2]\n",
    "    \n",
    "    print(\"# '{}':\".format(Category))\n",
    "    \n",
    "    # Prints 5 unigrams with highest chi squared stat\n",
    "    print(\" . Most Correlated unigrams:\\n    .{}\".format('\\n    .'.join(unigrams[-N:])))\n",
    "    # Prints 5 bigrams with highest chi squared stat\n",
    "    print(\" . Most Correlated biigrams:\\n    .{}\".format('\\n    .'.join(bigrams[-N:])))\n",
    "\n",
    "    "
   ]
  },
  {
   "cell_type": "code",
   "execution_count": 8,
   "id": "durable-orleans",
   "metadata": {},
   "outputs": [
    {
     "data": {
      "text/plain": [
       "(array([0.15673482, 0.36024914, 0.61091723, ..., 0.71520008, 0.03542925,\n",
       "        0.00574587]),\n",
       " array([0.69218066, 0.5483679 , 0.43444266, ..., 0.3977229 , 0.85069904,\n",
       "        0.939577  ]))"
      ]
     },
     "execution_count": 8,
     "metadata": {},
     "output_type": "execute_result"
    }
   ],
   "source": [
    "features_chi2"
   ]
  },
  {
   "cell_type": "code",
   "execution_count": 9,
   "id": "orange-quantum",
   "metadata": {},
   "outputs": [],
   "source": [
    "from sklearn.manifold import TSNE\n",
    "\n",
    "# Sampling a subset of our dataset because t-SNE is computationaly expensive\n",
    "# Gets the length down to 30%\n",
    "Samp_size = int(len(features) * 0.3)\n",
    "np.random.seed(0)\n",
    "\n",
    "# Randomly selects 30% of samples\n",
    "indicies = np.random.choice(range(len(features)), size=Samp_size, replace=False)\n",
    "\n",
    "# Array of all projected features of 30% of Randomly chosen samples\n",
    "projected_features = TSNE(n_components=2, random_state=0).fit_transform(features[indicies])"
   ]
  },
  {
   "cell_type": "code",
   "execution_count": 10,
   "id": "arctic-terminology",
   "metadata": {},
   "outputs": [
    {
     "data": {
      "text/plain": [
       "array([[ -7.038503  ,  -4.14367   ],\n",
       "       [-19.748566  ,  -9.95068   ],\n",
       "       [ -6.1492243 , -16.122793  ],\n",
       "       [ -1.2916738 , -10.573231  ],\n",
       "       [ 13.2152405 ,  24.128468  ],\n",
       "       [ -4.360479  , -10.647816  ],\n",
       "       [-23.667856  ,  -1.6449893 ],\n",
       "       [ -5.9305325 ,  -9.685599  ],\n",
       "       [-16.936007  , -18.673864  ],\n",
       "       [-10.032745  , -17.645622  ],\n",
       "       [ -7.458876  ,  19.998806  ],\n",
       "       [-10.013162  , -12.671203  ],\n",
       "       [-19.900597  , -16.374363  ],\n",
       "       [-16.054462  ,  -9.854694  ],\n",
       "       [  1.1867887 , -10.946933  ],\n",
       "       [ -8.533413  , -12.016898  ],\n",
       "       [-19.37486   , -10.951462  ],\n",
       "       [ -4.3443885 ,  -8.687464  ],\n",
       "       [-12.128221  ,  -6.2662225 ],\n",
       "       [-22.584747  ,  -4.33655   ],\n",
       "       [ -7.7641163 , -23.668333  ],\n",
       "       [-15.252922  ,  -3.1900856 ],\n",
       "       [ -7.2909503 , -14.940962  ],\n",
       "       [-16.510393  ,  -3.6949914 ],\n",
       "       [ -7.3642364 ,  -8.158136  ],\n",
       "       [-19.074492  ,  -5.4731054 ],\n",
       "       [-14.54014   ,  -5.2991223 ],\n",
       "       [-19.37822   ,  -3.378087  ],\n",
       "       [-19.183208  ,  -9.969638  ],\n",
       "       [-19.69749   ,  -3.25799   ],\n",
       "       [-13.112089  ,  -8.68797   ],\n",
       "       [-13.694239  ,  -2.6306984 ],\n",
       "       [ -9.637489  ,  -8.240709  ],\n",
       "       [-20.857971  , -15.163516  ],\n",
       "       [-10.90654   , -12.261632  ],\n",
       "       [ -5.7577095 ,  -7.9589057 ],\n",
       "       [ -9.580357  ,  -4.8562236 ],\n",
       "       [ -0.20349972,  -5.3317304 ],\n",
       "       [ -3.0166266 , -14.631362  ],\n",
       "       [  0.29530486, -10.835424  ],\n",
       "       [  0.649456  ,  -6.0237226 ],\n",
       "       [-18.492788  ,  -7.736235  ],\n",
       "       [ -4.287196  , -10.111436  ],\n",
       "       [ -5.0723815 , -15.797924  ],\n",
       "       [-22.157679  ,  -1.5180753 ],\n",
       "       [-14.875856  ,  -7.760234  ],\n",
       "       [-12.544763  , -15.740269  ],\n",
       "       [-10.726392  ,  -8.412017  ],\n",
       "       [-21.059103  , -15.040547  ],\n",
       "       [  2.2585588 , -10.968116  ],\n",
       "       [ -6.8179116 , -13.059437  ],\n",
       "       [-15.459124  ,  -0.12884955],\n",
       "       [-16.797955  ,  -5.5514145 ],\n",
       "       [-15.100816  , -25.999767  ],\n",
       "       [-13.576637  , -16.020721  ],\n",
       "       [ -9.714559  , -16.101456  ],\n",
       "       [ -2.1895516 , -13.712658  ],\n",
       "       [-13.452738  ,  -2.3504267 ],\n",
       "       [  2.139537  , -10.046533  ],\n",
       "       [-10.299615  , -10.473262  ],\n",
       "       [-14.111774  , -16.134434  ],\n",
       "       [-21.759502  ,  -4.0774703 ],\n",
       "       [ 13.5643    ,  23.159971  ],\n",
       "       [  0.6815159 ,  -6.5447435 ],\n",
       "       [ -1.827448  ,  -8.577119  ],\n",
       "       [-10.463741  ,  -2.7499244 ],\n",
       "       [ -5.304431  , -14.444586  ],\n",
       "       [ -7.145541  ,  -4.237724  ],\n",
       "       [ -8.045649  , -10.241585  ],\n",
       "       [-23.18363   ,  -9.0081215 ],\n",
       "       [-23.784023  ,  -4.3453536 ],\n",
       "       [-20.694824  ,  -5.8361    ],\n",
       "       [-14.269132  ,  -9.869154  ],\n",
       "       [-19.45295   ,  -2.3807344 ],\n",
       "       [-10.756675  ,  -1.3602225 ],\n",
       "       [-15.189243  ,  -7.223849  ],\n",
       "       [ -4.0455203 , -11.648646  ],\n",
       "       [-14.961421  ,  -9.97165   ],\n",
       "       [-16.08729   ,  -0.28634197],\n",
       "       [ -8.106405  ,  -3.0875435 ],\n",
       "       [-18.681877  , -22.750854  ],\n",
       "       [-13.553209  , -12.863664  ],\n",
       "       [ -6.6667457 , -10.501991  ],\n",
       "       [ -0.99195504, -14.166299  ],\n",
       "       [ -5.8844285 , -14.219206  ],\n",
       "       [ -8.314885  , -14.676922  ],\n",
       "       [ -5.117526  ,  -3.8094945 ],\n",
       "       [-20.144285  , -13.493805  ],\n",
       "       [-10.136579  ,  -3.2781672 ],\n",
       "       [ -9.799864  , -15.2323675 ],\n",
       "       [-16.748144  , -18.531057  ],\n",
       "       [-16.091824  ,  -5.366453  ],\n",
       "       [-16.168814  , -14.027381  ],\n",
       "       [-12.07845   ,  -6.0923686 ],\n",
       "       [ -0.7512037 , -10.762123  ],\n",
       "       [-24.95749   ,  -3.266919  ],\n",
       "       [-23.98943   ,  -5.887412  ],\n",
       "       [-12.293318  , -12.5538435 ],\n",
       "       [-23.746756  ,  -1.7980611 ],\n",
       "       [ -4.085203  ,  31.306742  ],\n",
       "       [-23.37258   ,  -8.732712  ],\n",
       "       [ -5.918452  ,  -6.181786  ],\n",
       "       [ -4.3462586 ,  -6.9165425 ]], dtype=float32)"
      ]
     },
     "execution_count": 10,
     "metadata": {},
     "output_type": "execute_result"
    }
   ],
   "source": [
    "my_id = 0 # selects category_id\n",
    "\n",
    "projected_features[(labels[indicies] == my_id).values]\n"
   ]
  },
  {
   "cell_type": "code",
   "execution_count": 11,
   "id": "honest-composite",
   "metadata": {},
   "outputs": [
    {
     "data": {
      "image/png": "[encoded data removed]",
      "text/plain": [
       "<Figure size 432x288 with 1 Axes>"
      ]
     },
     "metadata": {
      "needs_background": "light"
     },
     "output_type": "display_data"
    }
   ],
   "source": [
    "colors = ['red','blue','orange','green','purple']\n",
    "\n",
    "# Finds points associated with categories and plots them\n",
    "for category, category_id in sorted(category_to_id.items()):\n",
    "    points = projected_features[(labels[indicies] == category_id).values]\n",
    "    plt.scatter(points[:, 0], points[:,1],s=30,c=colors[category_id], label=category)\n",
    "plt.title('TFIDF feature vector for each article, projected on 2 dimensions.')\n",
    "plt.legend()\n",
    "plt.show()"
   ]
  },
  {
   "cell_type": "code",
   "execution_count": 12,
   "id": "hungry-iceland",
   "metadata": {},
   "outputs": [],
   "source": [
    "# Import our lin models\n",
    "from sklearn.linear_model import LogisticRegression\n",
    "from sklearn.ensemble import RandomForestClassifier\n",
    "from sklearn.naive_bayes import MultinomialNB\n",
    "from sklearn.model_selection import cross_val_score\n",
    "\n",
    "# insitialize our models and set params\n",
    "models = [\n",
    "    RandomForestClassifier(n_estimators=200, max_depth=3, random_state=0),\n",
    "    MultinomialNB(),\n",
    "    LogisticRegression(random_state=0),\n",
    "]"
   ]
  },
  {
   "cell_type": "code",
   "execution_count": 13,
   "id": "charged-associate",
   "metadata": {},
   "outputs": [],
   "source": [
    "# Cross validation time BABBBYYYYY\n",
    "CV = 5\n",
    "\n",
    "# Creates dataframe that will store the results for all 5 trials of the 3 different models\n",
    "cv_storage = pd.DataFrame(index=range(CV * len(models)))\n",
    "\n",
    "# At start all entries are empty\n",
    "entries = []"
   ]
  },
  {
   "cell_type": "code",
   "execution_count": 14,
   "id": "noble-curtis",
   "metadata": {},
   "outputs": [],
   "source": [
    "for model in models:\n",
    "    model_name = model.__class__.__name__\n",
    "    \n",
    "    # Create 5 models with different 20% test sets, and store their accuracy\n",
    "    accuracies = cross_val_score(model, features, labels, scoring='accuracy', cv=CV)\n",
    "    \n",
    "    # Append all 5 accuracies into the entries list ( after all 3 models are run, there will be 15 entries (\n",
    "    # 3 models * 5 cross validations))\n",
    "    \n",
    "    for fold_idx, accuracy in enumerate(accuracies):\n",
    "        entries.append((model_name, fold_idx, accuracy))"
   ]
  },
  {
   "cell_type": "code",
   "execution_count": 15,
   "id": "virtual-activation",
   "metadata": {},
   "outputs": [],
   "source": [
    "# Store the new entries into the results dataframe and name its columns\n",
    "cv_df = pd.DataFrame(entries, columns=['model_name', 'fold_idx', 'accuracy'])"
   ]
  },
  {
   "cell_type": "code",
   "execution_count": 16,
   "id": "addressed-democracy",
   "metadata": {},
   "outputs": [
    {
     "data": {
      "text/html": [
       "<div>\n",
       "<style scoped>\n",
       "    .dataframe tbody tr th:only-of-type {\n",
       "        vertical-align: middle;\n",
       "    }\n",
       "\n",
       "    .dataframe tbody tr th {\n",
       "        vertical-align: top;\n",
       "    }\n",
       "\n",
       "    .dataframe thead th {\n",
       "        text-align: right;\n",
       "    }\n",
       "</style>\n",
       "<table border=\"1\" class=\"dataframe\">\n",
       "  <thead>\n",
       "    <tr style=\"text-align: right;\">\n",
       "      <th></th>\n",
       "      <th>model_name</th>\n",
       "      <th>fold_idx</th>\n",
       "      <th>accuracy</th>\n",
       "    </tr>\n",
       "  </thead>\n",
       "  <tbody>\n",
       "    <tr>\n",
       "      <th>0</th>\n",
       "      <td>RandomForestClassifier</td>\n",
       "      <td>0</td>\n",
       "      <td>0.838926</td>\n",
       "    </tr>\n",
       "    <tr>\n",
       "      <th>1</th>\n",
       "      <td>RandomForestClassifier</td>\n",
       "      <td>1</td>\n",
       "      <td>0.835570</td>\n",
       "    </tr>\n",
       "    <tr>\n",
       "      <th>2</th>\n",
       "      <td>RandomForestClassifier</td>\n",
       "      <td>2</td>\n",
       "      <td>0.832215</td>\n",
       "    </tr>\n",
       "    <tr>\n",
       "      <th>3</th>\n",
       "      <td>RandomForestClassifier</td>\n",
       "      <td>3</td>\n",
       "      <td>0.889262</td>\n",
       "    </tr>\n",
       "    <tr>\n",
       "      <th>4</th>\n",
       "      <td>RandomForestClassifier</td>\n",
       "      <td>4</td>\n",
       "      <td>0.859060</td>\n",
       "    </tr>\n",
       "    <tr>\n",
       "      <th>5</th>\n",
       "      <td>MultinomialNB</td>\n",
       "      <td>0</td>\n",
       "      <td>0.966443</td>\n",
       "    </tr>\n",
       "    <tr>\n",
       "      <th>6</th>\n",
       "      <td>MultinomialNB</td>\n",
       "      <td>1</td>\n",
       "      <td>0.959732</td>\n",
       "    </tr>\n",
       "    <tr>\n",
       "      <th>7</th>\n",
       "      <td>MultinomialNB</td>\n",
       "      <td>2</td>\n",
       "      <td>0.979866</td>\n",
       "    </tr>\n",
       "    <tr>\n",
       "      <th>8</th>\n",
       "      <td>MultinomialNB</td>\n",
       "      <td>3</td>\n",
       "      <td>0.976510</td>\n",
       "    </tr>\n",
       "    <tr>\n",
       "      <th>9</th>\n",
       "      <td>MultinomialNB</td>\n",
       "      <td>4</td>\n",
       "      <td>0.963087</td>\n",
       "    </tr>\n",
       "    <tr>\n",
       "      <th>10</th>\n",
       "      <td>LogisticRegression</td>\n",
       "      <td>0</td>\n",
       "      <td>0.966443</td>\n",
       "    </tr>\n",
       "    <tr>\n",
       "      <th>11</th>\n",
       "      <td>LogisticRegression</td>\n",
       "      <td>1</td>\n",
       "      <td>0.963087</td>\n",
       "    </tr>\n",
       "    <tr>\n",
       "      <th>12</th>\n",
       "      <td>LogisticRegression</td>\n",
       "      <td>2</td>\n",
       "      <td>0.979866</td>\n",
       "    </tr>\n",
       "    <tr>\n",
       "      <th>13</th>\n",
       "      <td>LogisticRegression</td>\n",
       "      <td>3</td>\n",
       "      <td>0.979866</td>\n",
       "    </tr>\n",
       "    <tr>\n",
       "      <th>14</th>\n",
       "      <td>LogisticRegression</td>\n",
       "      <td>4</td>\n",
       "      <td>0.976510</td>\n",
       "    </tr>\n",
       "  </tbody>\n",
       "</table>\n",
       "</div>"
      ],
      "text/plain": [
       "                model_name  fold_idx  accuracy\n",
       "0   RandomForestClassifier         0  0.838926\n",
       "1   RandomForestClassifier         1  0.835570\n",
       "2   RandomForestClassifier         2  0.832215\n",
       "3   RandomForestClassifier         3  0.889262\n",
       "4   RandomForestClassifier         4  0.859060\n",
       "5            MultinomialNB         0  0.966443\n",
       "6            MultinomialNB         1  0.959732\n",
       "7            MultinomialNB         2  0.979866\n",
       "8            MultinomialNB         3  0.976510\n",
       "9            MultinomialNB         4  0.963087\n",
       "10      LogisticRegression         0  0.966443\n",
       "11      LogisticRegression         1  0.963087\n",
       "12      LogisticRegression         2  0.979866\n",
       "13      LogisticRegression         3  0.979866\n",
       "14      LogisticRegression         4  0.976510"
      ]
     },
     "execution_count": 16,
     "metadata": {},
     "output_type": "execute_result"
    }
   ],
   "source": [
    "cv_df"
   ]
  },
  {
   "cell_type": "code",
   "execution_count": 19,
   "id": "invisible-heating",
   "metadata": {},
   "outputs": [
    {
     "data": {
      "text/plain": [
       "model_name\n",
       "LogisticRegression        0.973154\n",
       "MultinomialNB             0.969128\n",
       "RandomForestClassifier    0.851007\n",
       "Name: accuracy, dtype: float64"
      ]
     },
     "execution_count": 19,
     "metadata": {},
     "output_type": "execute_result"
    },
    {
     "data": {
      "image/png": "[encoded data removed]",
      "text/plain": [
       "<Figure size 432x288 with 1 Axes>"
      ]
     },
     "metadata": {
      "needs_background": "light"
     },
     "output_type": "display_data"
    }
   ],
   "source": [
    "# Visualizing accuracy\n",
    "import seaborn as sns\n",
    "\n",
    "sns.boxplot(x='model_name', y='accuracy', data=cv_df)\n",
    "sns.stripplot(x='model_name', y='accuracy', data=cv_df, size=8, jitter=True, linewidth=2)\n",
    "\n",
    "# Group our accuracy scores\n",
    "cv_df.groupby('model_name').accuracy.mean()"
   ]
  },
  {
   "cell_type": "code",
   "execution_count": 31,
   "id": "enormous-ethernet",
   "metadata": {},
   "outputs": [],
   "source": [
    "def savanna(x):\n",
    "    y = x + 5 /3.14\n",
    "    print(y)\n",
    "\n",
    "    "
   ]
  },
  {
   "cell_type": "code",
   "execution_count": 33,
   "id": "separate-notice",
   "metadata": {},
   "outputs": [
    {
     "name": "stdout",
     "output_type": "stream",
     "text": [
      "11.59235668789809\n",
      "None\n"
     ]
    }
   ],
   "source": [
    "print(savanna(10))"
   ]
  },
  {
   "cell_type": "code",
   "execution_count": null,
   "id": "spatial-primary",
   "metadata": {},
   "outputs": [],
   "source": []
  }
 ],
 "metadata": {
  "kernelspec": {
   "display_name": "Python 3",
   "language": "python",
   "name": "python3"
  },
  "language_info": {
   "codemirror_mode": {
    "name": "ipython",
    "version": 3
   },
   "file_extension": ".py",
   "mimetype": "text/x-python",
   "name": "python",
   "nbconvert_exporter": "python",
   "pygments_lexer": "ipython3",
   "version": "3.9.1"
  }
 },
 "nbformat": 4,
 "nbformat_minor": 5
}
