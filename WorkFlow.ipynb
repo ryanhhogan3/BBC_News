{
 "cells": [
  {
   "cell_type": "code",
   "execution_count": 1,
   "id": "moderate-japanese",
   "metadata": {},
   "outputs": [
    {
     "name": "stdout",
     "output_type": "stream",
     "text": [
      "['BBC News Sample Solution.csv', 'BBC News Test.csv', 'BBC News Train.csv']\n"
     ]
    }
   ],
   "source": [
    "# Python 3 Enviornment\n",
    "# Importing our necessary libraries\n",
    "\n",
    "import numpy as np\n",
    "import pandas as pd\n",
    "import matplotlib.pyplot as plt\n",
    "%matplotlib inline\n",
    "\n",
    "import sklearn\n",
    "import os\n",
    "\n",
    "print(os.listdir(r\"Data\"))"
   ]
  },
  {
   "cell_type": "code",
   "execution_count": 2,
   "id": "convenient-calculation",
   "metadata": {},
   "outputs": [
    {
     "data": {
      "text/html": [
       "<div>\n",
       "<style scoped>\n",
       "    .dataframe tbody tr th:only-of-type {\n",
       "        vertical-align: middle;\n",
       "    }\n",
       "\n",
       "    .dataframe tbody tr th {\n",
       "        vertical-align: top;\n",
       "    }\n",
       "\n",
       "    .dataframe thead th {\n",
       "        text-align: right;\n",
       "    }\n",
       "</style>\n",
       "<table border=\"1\" class=\"dataframe\">\n",
       "  <thead>\n",
       "    <tr style=\"text-align: right;\">\n",
       "      <th></th>\n",
       "      <th>Category</th>\n",
       "      <th>category_id</th>\n",
       "    </tr>\n",
       "  </thead>\n",
       "  <tbody>\n",
       "    <tr>\n",
       "      <th>0</th>\n",
       "      <td>business</td>\n",
       "      <td>0</td>\n",
       "    </tr>\n",
       "    <tr>\n",
       "      <th>3</th>\n",
       "      <td>tech</td>\n",
       "      <td>1</td>\n",
       "    </tr>\n",
       "    <tr>\n",
       "      <th>5</th>\n",
       "      <td>politics</td>\n",
       "      <td>2</td>\n",
       "    </tr>\n",
       "    <tr>\n",
       "      <th>6</th>\n",
       "      <td>sport</td>\n",
       "      <td>3</td>\n",
       "    </tr>\n",
       "    <tr>\n",
       "      <th>7</th>\n",
       "      <td>entertainment</td>\n",
       "      <td>4</td>\n",
       "    </tr>\n",
       "  </tbody>\n",
       "</table>\n",
       "</div>"
      ],
      "text/plain": [
       "        Category  category_id\n",
       "0       business            0\n",
       "3           tech            1\n",
       "5       politics            2\n",
       "6          sport            3\n",
       "7  entertainment            4"
      ]
     },
     "execution_count": 2,
     "metadata": {},
     "output_type": "execute_result"
    }
   ],
   "source": [
    "# Looking at our data\n",
    "Trainpath = os.path.join(\"Data/BBC News Train.csv\")\n",
    "\n",
    "# Load our data\n",
    "Traindata = pd.read_csv(Trainpath)\n",
    "\n",
    "# Read our data to review columns, and datapoints\n",
    "Traindata.head()\n",
    "\n",
    "# We need to encode our data then save it to a new column\n",
    "Traindata['category_id'] = Traindata['Category'].factorize()[0]\n",
    "\n",
    "# Review our dataframe\n",
    "Traindata.head(10)\n",
    "\n",
    "# Lets look at our categories and corresponding ID numbers\n",
    "category_id = Traindata[['Category', 'category_id']].drop_duplicates().sort_values('category_id')\n",
    "\n",
    "# review\n",
    "category_id"
   ]
  },
  {
   "cell_type": "code",
   "execution_count": 3,
   "id": "existing-journal",
   "metadata": {},
   "outputs": [],
   "source": [
    "# Create a dictionary that can convert category names into category_id\n",
    "category_to_id = dict(category_id.values)\n",
    "\n",
    "# inverse the dict\n",
    "id_to_category = {v: i for i, v in category_to_id.items()}"
   ]
  },
  {
   "cell_type": "code",
   "execution_count": 4,
   "id": "fifteen-living",
   "metadata": {},
   "outputs": [
    {
     "data": {
      "text/plain": [
       "<AxesSubplot:xlabel='Category'>"
      ]
     },
     "execution_count": 4,
     "metadata": {},
     "output_type": "execute_result"
    },
    {
     "data": {
      "image/png": "[encoded data removed]",
      "text/plain": [
       "<Figure size 432x288 with 1 Axes>"
      ]
     },
     "metadata": {
      "needs_background": "light"
     },
     "output_type": "display_data"
    }
   ],
   "source": [
    "# Sample our data\n",
    "Traindata.sample(10)\n",
    "\n",
    "# Count and view our data\n",
    "Traindata.groupby('Category').category_id.count()\n",
    "\n",
    "# Bar plot for visualization \n",
    "Traindata.groupby('Category').category_id.count().plot.bar(ylim=0)"
   ]
  },
  {
   "cell_type": "code",
   "execution_count": 30,
   "id": "french-merchandise",
   "metadata": {},
   "outputs": [
    {
     "data": {
      "text/plain": [
       "{'business': 0, 'tech': 1, 'politics': 2, 'sport': 3, 'entertainment': 4}"
      ]
     },
     "execution_count": 30,
     "metadata": {},
     "output_type": "execute_result"
    }
   ],
   "source": [
    "# Bring in our Tfid Vectorizer\n",
    "    # Sublinear_tf set to True to give returns as freq. of word decreases\n",
    "    # Min_df is minimum number of documents a word must be present in to be kept\n",
    "    # norm is to ensure all our feature vectors have a euclidian norm of 1\n",
    "    # encoding is used by our input text\n",
    "    # ngram_range to indicate that we want to consider single words ('money', 'business') amd pairs of words ('stock market', 'comedy movies')\n",
    "    # stop_words set to english for removing all common pronouns ('a', 'he', 'it')\n",
    "from sklearn.feature_extraction.text import TfidfVectorizer\n",
    "\n",
    "tfidf = TfidfVectorizer(sublinear_tf=True, min_df=10, norm='12', encoding='latin-1', ngram_range=(1,2), stop_words='english')\n",
    "\n",
    "features = tfidf.fit_transform(df.Text).toarray()\n",
    "# turns our texts into features \n",
    "\n",
    "\n",
    "labels = Traindata.category_id"
   ]
  },
  {
   "cell_type": "code",
   "execution_count": 6,
   "id": "natural-glory",
   "metadata": {},
   "outputs": [
    {
     "data": {
      "text/plain": [
       "0       worldcom ex-boss launches defence lawyers defe...\n",
       "1       german business confidence slides german busin...\n",
       "2       bbc poll indicates economic gloom citizens in ...\n",
       "3       lifestyle  governs mobile choice  faster  bett...\n",
       "4       enron bosses in $168m payout eighteen former e...\n",
       "                              ...                        \n",
       "1485    double eviction from big brother model caprice...\n",
       "1486    dj double act revamp chart show dj duo jk and ...\n",
       "1487    weak dollar hits reuters revenues at media gro...\n",
       "1488    apple ipod family expands market apple has exp...\n",
       "1489    santy worm makes unwelcome visit thousands of ...\n",
       "Name: Text, Length: 1490, dtype: object"
      ]
     },
     "execution_count": 6,
     "metadata": {},
     "output_type": "execute_result"
    }
   ],
   "source": [
    "Traindata.Text"
   ]
  },
  {
   "cell_type": "code",
   "execution_count": null,
   "id": "determined-march",
   "metadata": {},
   "outputs": [],
   "source": []
  }
 ],
 "metadata": {
  "kernelspec": {
   "display_name": "Python 3",
   "language": "python",
   "name": "python3"
  },
  "language_info": {
   "codemirror_mode": {
    "name": "ipython",
    "version": 3
   },
   "file_extension": ".py",
   "mimetype": "text/x-python",
   "name": "python",
   "nbconvert_exporter": "python",
   "pygments_lexer": "ipython3",
   "version": "3.9.1"
  }
 },
 "nbformat": 4,
 "nbformat_minor": 5
}
